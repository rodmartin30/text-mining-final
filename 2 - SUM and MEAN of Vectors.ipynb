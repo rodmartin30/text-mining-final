{
 "cells": [
  {
   "cell_type": "code",
   "execution_count": null,
   "metadata": {},
   "outputs": [],
   "source": [
    "import pandas as pd\n",
    "import numpy as np\n",
    "from gensim.models import FastText"
   ]
  },
  {
   "cell_type": "markdown",
   "metadata": {},
   "source": [
    "### Contants"
   ]
  },
  {
   "cell_type": "code",
   "execution_count": null,
   "metadata": {},
   "outputs": [],
   "source": [
    "MESSAGES_PATH = 'data/text2corpus/corpus_messages.txt'\n",
    "ORIGINAL_MESSAGES_PATH = 'data/text2corpus/corpus_original_messages.txt'"
   ]
  },
  {
   "cell_type": "code",
   "execution_count": null,
   "metadata": {},
   "outputs": [],
   "source": [
    "def get_features(doc, model, type_op='mean'):\n",
    "    features = []\n",
    "    for sentence in doc:\n",
    "        vectors = [model.wv[word] for word in sentence]\n",
    "        if type_op == 'mean':\n",
    "            features.append(np.mean(vectors, axis=0))\n",
    "        else:\n",
    "            features.append(np.sum(vectors, axis=0))\n",
    "    return features"
   ]
  },
  {
   "cell_type": "code",
   "execution_count": null,
   "metadata": {},
   "outputs": [],
   "source": [
    "import pickle\n",
    "\n",
    "def load_corpus():\n",
    "    pre_data = []\n",
    "    data = []\n",
    "    with open(MESSAGES_PATH, \"rb\") as f:\n",
    "        data = pickle.load(f)\n",
    "    with open(ORIGINAL_MESSAGES_PATH, \"rb\") as f:\n",
    "        pre_data = pickle.load(f)\n",
    "\n",
    "    return data, pre_data\n",
    "\n",
    "data, original_data = load_corpus()"
   ]
  },
  {
   "cell_type": "code",
   "execution_count": null,
   "metadata": {},
   "outputs": [],
   "source": [
    "model = FastText(data, size=100, window=5, min_count=5, workers=4,sg=1)"
   ]
  },
  {
   "cell_type": "code",
   "execution_count": null,
   "metadata": {},
   "outputs": [],
   "source": [
    "data_mean_feature = get_features(data, model, 'mean')\n",
    "data_sum_feature = get_features(data, model, 'sum')"
   ]
  },
  {
   "cell_type": "code",
   "execution_count": null,
   "metadata": {},
   "outputs": [],
   "source": [
    "dataframe_mean = pd.DataFrame(data_mean_feature)\n",
    "dataframe_sum = pd.DataFrame(data_sum_feature)"
   ]
  },
  {
   "cell_type": "code",
   "execution_count": null,
   "metadata": {},
   "outputs": [],
   "source": [
    "dataframe_mean.to_pickle(\"data/df_from_mean_fasttext.pkl\")\n",
    "dataframe_sum.to_pickle(\"data/df_from_sum_fasttext.pkl\")"
   ]
  },
  {
   "cell_type": "code",
   "execution_count": null,
   "metadata": {},
   "outputs": [],
   "source": []
  },
  {
   "cell_type": "code",
   "execution_count": null,
   "metadata": {},
   "outputs": [],
   "source": []
  }
 ],
 "metadata": {
  "kernelspec": {
   "display_name": "Python 3",
   "language": "python",
   "name": "python3"
  },
  "language_info": {
   "codemirror_mode": {
    "name": "ipython",
    "version": 3
   },
   "file_extension": ".py",
   "mimetype": "text/x-python",
   "name": "python",
   "nbconvert_exporter": "python",
   "pygments_lexer": "ipython3",
   "version": "3.7.3"
  }
 },
 "nbformat": 4,
 "nbformat_minor": 2
}

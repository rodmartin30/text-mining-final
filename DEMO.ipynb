{
 "cells": [
  {
   "cell_type": "markdown",
   "metadata": {},
   "source": [
    "### IMPORTS"
   ]
  },
  {
   "cell_type": "code",
   "execution_count": null,
   "metadata": {},
   "outputs": [],
   "source": [
    "from ipynb.fs.full.pre_processing_functions import pre_processing\n",
    "from ipynb.fs.full.logistic_regression_functions import get_top_k_predictions\n",
    "\n",
    "import pickle\n",
    "import numpy as np"
   ]
  },
  {
   "cell_type": "markdown",
   "metadata": {},
   "source": [
    "### CONSTS"
   ]
  },
  {
   "cell_type": "code",
   "execution_count": null,
   "metadata": {},
   "outputs": [],
   "source": [
    "demo_txt_path = \"/Users/rodmartin/text-mining-final/data/demo.txt\"\n",
    "labels_str_path=\"models/labels_str.pkl\"\n",
    "model_path=\"models/model.pkl\"\n",
    "transformer_path=\"models/transformer.pkl\""
   ]
  },
  {
   "cell_type": "markdown",
   "metadata": {},
   "source": [
    "### Load model, transformer and labels"
   ]
  },
  {
   "cell_type": "code",
   "execution_count": null,
   "metadata": {},
   "outputs": [],
   "source": [
    "labels_str = [str(x) for x in range(0,8)]\n",
    "pickle.dump(labels_str,open(labels_str_path, 'wb'))\n",
    "\n",
    "with open(model_path, 'rb') as file:\n",
    "    model = pickle.load(file)\n",
    "\n",
    "with open(transformer_path, 'rb') as file:\n",
    "    transformer = pickle.load(file)\n",
    "\n",
    "with open(labels_str_path, 'rb') as file:\n",
    "    labels_str = pickle.load(file)"
   ]
  },
  {
   "cell_type": "markdown",
   "metadata": {},
   "source": [
    "### DEMO TIME"
   ]
  },
  {
   "cell_type": "code",
   "execution_count": null,
   "metadata": {},
   "outputs": [],
   "source": [
    "# Step 1 is get the chat txt and do a pre processing of it.\n",
    "message, original_message = pre_processing(demo_txt_path)"
   ]
  },
  {
   "cell_type": "code",
   "execution_count": null,
   "metadata": {},
   "outputs": [],
   "source": [
    "# Step 2 is to get the features of the current conversations.\n",
    "list_messages = [' '.join(x) for x in message]\n",
    "features = transformer.transform(list_messages)"
   ]
  },
  {
   "cell_type": "code",
   "execution_count": null,
   "metadata": {},
   "outputs": [],
   "source": [
    "# Step 3 is to give to the model the features of the conversations.\n",
    "result = get_top_k_predictions(model, features, 3)"
   ]
  },
  {
   "cell_type": "code",
   "execution_count": null,
   "metadata": {},
   "outputs": [],
   "source": [
    "# Step 4 is see what were the predictions of the model.\n",
    "result_with_labels = [[labels_str[i] for i in x] for x in result]\n",
    "print(result_with_labels)"
   ]
  },
  {
   "cell_type": "code",
   "execution_count": null,
   "metadata": {},
   "outputs": [],
   "source": []
  }
 ],
 "metadata": {
  "kernelspec": {
   "display_name": "Python 3",
   "language": "python",
   "name": "python3"
  },
  "language_info": {
   "codemirror_mode": {
    "name": "ipython",
    "version": 3
   },
   "file_extension": ".py",
   "mimetype": "text/x-python",
   "name": "python",
   "nbconvert_exporter": "python",
   "pygments_lexer": "ipython3",
   "version": "3.7.4"
  }
 },
 "nbformat": 4,
 "nbformat_minor": 2
}

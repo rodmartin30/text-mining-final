{
 "cells": [
  {
   "cell_type": "code",
   "execution_count": null,
   "metadata": {},
   "outputs": [],
   "source": [
    "from ipynb.fs.full.logistic_regression_functions import *"
   ]
  },
  {
   "cell_type": "code",
   "execution_count": null,
   "metadata": {},
   "outputs": [],
   "source": [
    "field='text'\n",
    "top_k=3\n",
    "\n",
    "model,accuracy,mrr_at_k=train_model(df)\n",
    "print(\"\\nAccuracy={0}; MRR={1}\".format(accuracy,mrr_at_k))"
   ]
  },
  {
   "cell_type": "code",
   "execution_count": null,
   "metadata": {},
   "outputs": [],
   "source": [
    "field='text'\n",
    "top_k=3\n",
    "feature_rep = 'tf-idf' #binary, counts, tf-idf \n",
    "\n",
    "model, transformer, accuracy, mrr = train_model_with_transformer(df_with_str, feature_rep=feature_rep)\n",
    "print(\"\\nAccuracy={0}; MRR={1}\".format(accuracy,mrr_at_k))\n",
    "\n",
    "test_features = transformer.transform(['hola queres ir a jugar al tenis'])\n",
    "labels_ind = get_top_k_predictions(model, test_features, 2)\n",
    "[labels_str[x] for x in labels_ind[0]]"
   ]
  },
  {
   "cell_type": "markdown",
   "metadata": {},
   "source": [
    "### Save model and transformer"
   ]
  },
  {
   "cell_type": "code",
   "execution_count": null,
   "metadata": {},
   "outputs": [],
   "source": [
    "model_path=\"models/model.pkl\"\n",
    "transformer_path=\"models/transformer.pkl\"\n",
    " \n",
    "# we need to save both the transformer &amp; model \n",
    "# transformer to encode/vectorize per our settings\n",
    "# model to predict\n",
    "pickle.dump(model,open(model_path, 'wb'))\n",
    "#pickle.dump(transformer,open(transformer_path,'wb'))"
   ]
  }
 ],
 "metadata": {
  "kernelspec": {
   "display_name": "Python 3",
   "language": "python",
   "name": "python3"
  },
  "language_info": {
   "codemirror_mode": {
    "name": "ipython",
    "version": 3
   },
   "file_extension": ".py",
   "mimetype": "text/x-python",
   "name": "python",
   "nbconvert_exporter": "python",
   "pygments_lexer": "ipython3",
   "version": "3.7.4"
  }
 },
 "nbformat": 4,
 "nbformat_minor": 2
}

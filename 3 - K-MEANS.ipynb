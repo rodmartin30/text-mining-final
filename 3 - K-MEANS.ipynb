{
 "cells": [
  {
   "cell_type": "markdown",
   "metadata": {},
   "source": [
    "## K-MEANS CLUSTERING"
   ]
  },
  {
   "cell_type": "code",
   "execution_count": null,
   "metadata": {},
   "outputs": [],
   "source": [
    "from sklearn.cluster import KMeans\n",
    "import pandas as pd\n",
    "\n",
    "from collections import defaultdict"
   ]
  },
  {
   "cell_type": "markdown",
   "metadata": {},
   "source": [
    "### Constants"
   ]
  },
  {
   "cell_type": "code",
   "execution_count": null,
   "metadata": {},
   "outputs": [],
   "source": [
    "K_CLUSTERS = 8\n",
    "K_ITERS = 250"
   ]
  },
  {
   "cell_type": "code",
   "execution_count": null,
   "metadata": {},
   "outputs": [],
   "source": [
    "MESSAGES_PATH = 'data/text2corpus/corpus_messages.txt'\n",
    "ORIGINAL_MESSAGES_PATH = 'data/text2corpus/corpus_original_messages.txt'"
   ]
  },
  {
   "cell_type": "code",
   "execution_count": null,
   "metadata": {},
   "outputs": [],
   "source": [
    "import pickle\n",
    "\n",
    "def load_corpus():\n",
    "    pre_data = []\n",
    "    data = []\n",
    "    with open(MESSAGES_PATH, \"rb\") as f:\n",
    "        data = pickle.load(f)\n",
    "    with open(ORIGINAL_MESSAGES_PATH, \"rb\") as f:\n",
    "        pre_data = pickle.load(f)\n",
    "\n",
    "    return data, pre_data\n",
    "\n",
    "data, original_data = load_corpus()"
   ]
  },
  {
   "cell_type": "code",
   "execution_count": null,
   "metadata": {},
   "outputs": [],
   "source": [
    "data_str = [' '.join(lst) for lst in data]\n",
    "#data_feature = pd.read_pickle('data/df_from_bow_tfidf.pkl')\n",
    "#data_feature = pd.read_pickle('data/df_from_doc2vec.pkl')\n",
    "data_feature = pd.read_pickle('data/df_from_mean_fasttext.pkl')\n",
    "#data_feature = pd.read_pickle('data/df_from_sum_fasttext.pkl')"
   ]
  },
  {
   "cell_type": "code",
   "execution_count": null,
   "metadata": {},
   "outputs": [],
   "source": [
    "def clustering(vector, n_clusters, n_iter):\n",
    "    kmeans = KMeans(n_clusters=n_clusters, max_iter=n_iter, random_state=120)\n",
    "    kmeans.fit(vector)\n",
    "    v_labels = kmeans.predict(vector)\n",
    "    return kmeans, v_labels"
   ]
  },
  {
   "cell_type": "code",
   "execution_count": null,
   "metadata": {},
   "outputs": [],
   "source": [
    "kmeans, labels = clustering(data_feature, K_CLUSTERS, K_ITERS)\n",
    "#associate each word with its label\n",
    "c = list(zip(labels, data_str))\n",
    "\n",
    "cluster = defaultdict(set)\n",
    "for idc, word in c:\n",
    "    cluster[idc].add(word)\n",
    "\n",
    "# show clusters\n",
    "cluster"
   ]
  },
  {
   "cell_type": "markdown",
   "metadata": {},
   "source": [
    "### Análisis de clusters"
   ]
  },
  {
   "cell_type": "code",
   "execution_count": null,
   "metadata": {},
   "outputs": [],
   "source": []
  },
  {
   "cell_type": "code",
   "execution_count": null,
   "metadata": {},
   "outputs": [],
   "source": []
  }
 ],
 "metadata": {
  "kernelspec": {
   "display_name": "Python 3",
   "language": "python",
   "name": "python3"
  },
  "language_info": {
   "codemirror_mode": {
    "name": "ipython",
    "version": 3
   },
   "file_extension": ".py",
   "mimetype": "text/x-python",
   "name": "python",
   "nbconvert_exporter": "python",
   "pygments_lexer": "ipython3",
   "version": "3.7.3"
  }
 },
 "nbformat": 4,
 "nbformat_minor": 2
}

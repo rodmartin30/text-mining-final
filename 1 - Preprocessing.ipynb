{
 "cells": [
  {
   "cell_type": "code",
   "execution_count": null,
   "metadata": {},
   "outputs": [],
   "source": [
    "from ipynb.fs.full.pre_processing_functions import pre_processing\n",
    "import glob"
   ]
  },
  {
   "cell_type": "code",
   "execution_count": null,
   "metadata": {},
   "outputs": [],
   "source": [
    "txt_files = glob.glob(\"/Users/rodmartin/textmining/text-mining/dialog-tagging/data/*.txt\")\n",
    "\n",
    "pre_data = []\n",
    "data = []\n",
    "for file_path in txt_files:\n",
    "    a,b= pre_processing(file_path)\n",
    "    data += a\n",
    "    pre_data += b\n",
    "\n",
    "with open('data/text2corpus/corpus_messages.txt', 'wb') as f:\n",
    "    pickle.dump(data, f)\n",
    "with open('data/text2corpus/corpus_original_messages.txt', 'wb') as f:\n",
    "    pickle.dump(pre_data, f)"
   ]
  },
  {
   "cell_type": "code",
   "execution_count": null,
   "metadata": {},
   "outputs": [],
   "source": []
  }
 ],
 "metadata": {
  "kernelspec": {
   "display_name": "Python 3",
   "language": "python",
   "name": "python3"
  },
  "language_info": {
   "codemirror_mode": {
    "name": "ipython",
    "version": 3
   },
   "file_extension": ".py",
   "mimetype": "text/x-python",
   "name": "python",
   "nbconvert_exporter": "python",
   "pygments_lexer": "ipython3",
   "version": "3.7.4"
  }
 },
 "nbformat": 4,
 "nbformat_minor": 2
}

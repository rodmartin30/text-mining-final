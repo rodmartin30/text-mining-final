{
 "cells": [
  {
   "cell_type": "markdown",
   "metadata": {},
   "source": [
    "## Summary\n",
    "* Load conversation files, make a pre_processing to each of them.\n",
    "* Remove words with less than WORD_TIMES apparitions in corpus.\n",
    "* Remove phrases with less than PHRASE_SIZE words.\n",
    "* Dump data."
   ]
  },
  {
   "cell_type": "code",
   "execution_count": null,
   "metadata": {},
   "outputs": [],
   "source": [
    "import glob\n",
    "import pickle\n",
    "from collections import Counter\n",
    "from ipynb.fs.full import paths\n",
    "from ipynb.fs.full.pre_processing_functions import pre_processing\n",
    "\n",
    "WORD_TIMES = 7\n",
    "PHRASE_SIZE = 5"
   ]
  },
  {
   "cell_type": "code",
   "execution_count": null,
   "metadata": {},
   "outputs": [],
   "source": [
    "txt_files = glob.glob(paths.TXT_FILES_PATH)\n",
    "\n",
    "pre_data = []\n",
    "data = []\n",
    "\n",
    "file_n = 0\n",
    "for file_path in txt_files:\n",
    "    print(\"Processing file number: {}\".format(file_n))\n",
    "    file_n += 1\n",
    "    message, original_message = pre_processing(file_path)\n",
    "    data += message\n",
    "    pre_data += original_message"
   ]
  },
  {
   "cell_type": "markdown",
   "metadata": {},
   "source": [
    "# Remove words with less than WORD_TIMES apparitions in corpus."
   ]
  },
  {
   "cell_type": "code",
   "execution_count": null,
   "metadata": {},
   "outputs": [],
   "source": [
    "words = []\n",
    "for phrase in data:\n",
    "    words += phrase\n",
    "\n",
    "distribution_words = Counter(words)\n",
    "data = [[word for word in phrase if distribution_words[word] > WORD_TIMES ] for phrase in data]"
   ]
  },
  {
   "cell_type": "markdown",
   "metadata": {},
   "source": [
    "# Remove phrases with less than PHRASE_SIZE words."
   ]
  },
  {
   "cell_type": "code",
   "execution_count": null,
   "metadata": {},
   "outputs": [],
   "source": [
    "for i in range(0, len(data)):\n",
    "    if len(data[i]) < PHRASE_SIZE:\n",
    "        data[i] = []\n",
    "        pre_data[i] = []\n",
    "\n",
    "data = [phrase for phrase in data if phrase != []]\n",
    "pre_data = [phrase for phrase in pre_data if phrase != []]"
   ]
  },
  {
   "cell_type": "markdown",
   "metadata": {},
   "source": [
    "# Dumping data"
   ]
  },
  {
   "cell_type": "code",
   "execution_count": null,
   "metadata": {},
   "outputs": [],
   "source": [
    "with open(paths.CORPUS_FILTERED_MESSAGES, 'wb') as f:\n",
    "    pickle.dump(data, f)\n",
    "with open(paths.CORPUS_MESSAGES, 'wb') as f:\n",
    "    pickle.dump(pre_data, f)"
   ]
  },
  {
   "cell_type": "code",
   "execution_count": null,
   "metadata": {},
   "outputs": [],
   "source": []
  }
 ],
 "metadata": {
  "kernelspec": {
   "display_name": "Python 3",
   "language": "python",
   "name": "python3"
  },
  "language_info": {
   "codemirror_mode": {
    "name": "ipython",
    "version": 3
   },
   "file_extension": ".py",
   "mimetype": "text/x-python",
   "name": "python",
   "nbconvert_exporter": "python",
   "pygments_lexer": "ipython3",
   "version": "3.7.4"
  }
 },
 "nbformat": 4,
 "nbformat_minor": 2
}

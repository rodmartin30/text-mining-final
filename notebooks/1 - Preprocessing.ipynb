{
 "cells": [
  {
   "cell_type": "markdown",
   "metadata": {},
   "source": [
    "## Summary\n",
    "* Load conversation files, make a pre_processing to each of them.\n",
    "* Remove words with less than WORD_TIMES apparitions in corpus.\n",
    "* Remove phrases with less than PHRASE_SIZE words.\n",
    "* Dump data."
   ]
  },
  {
   "cell_type": "code",
   "execution_count": null,
   "metadata": {},
   "outputs": [],
   "source": [
    "import glob\n",
    "import pickle\n",
    "import itertools\n",
    "from collections import Counter\n",
    "from ipynb.fs.full import paths\n",
    "from ipynb.fs.full.pre_processing_functions import pre_processing\n",
    "from ipynb.fs.full.utils_functions import save_corpus\n",
    "\n",
    "WORD_TIMES = 7\n",
    "PHRASE_SIZE = 5"
   ]
  },
  {
   "cell_type": "code",
   "execution_count": null,
   "metadata": {
    "scrolled": true
   },
   "outputs": [],
   "source": [
    "txt_files = glob.glob(paths.TXT_FILES_PATH)\n",
    "\n",
    "processed_data = []\n",
    "data = []\n",
    "\n",
    "file_n = 0\n",
    "for file_path in txt_files:\n",
    "    print(\"Processing file number: {}\".format(file_n))\n",
    "    file_n += 1\n",
    "    message, original_message = pre_processing(file_path)\n",
    "    processed_data += message\n",
    "    data += original_message"
   ]
  },
  {
   "cell_type": "markdown",
   "metadata": {},
   "source": [
    "# Remove words with less than WORD_TIMES apparitions in corpus."
   ]
  },
  {
   "cell_type": "code",
   "execution_count": null,
   "metadata": {},
   "outputs": [],
   "source": [
    "removed = {\n",
    "    'omitted':'',\n",
    "    'jeje':'',\n",
    "    'ero':'',\n",
    "    'vos':'',\n",
    "    'media':'',\n",
    "    'location':'',\n",
    "    'missed':'',\n",
    "    'res':'',\n",
    "}\n",
    "words = list(itertools.chain.from_iterable(processed_data))\n",
    "distribution_words = Counter(words)\n",
    "tmp_list = [[word for word in phrase if (distribution_words[word] > WORD_TIMES and word.isalpha() and (word not in removed))] for phrase in processed_data]\n",
    "processed_data = tmp_list"
   ]
  },
  {
   "cell_type": "markdown",
   "metadata": {},
   "source": [
    "# Remove phrases with less than PHRASE_SIZE words."
   ]
  },
  {
   "cell_type": "code",
   "execution_count": null,
   "metadata": {},
   "outputs": [],
   "source": [
    "for i in range(0, len(data)):\n",
    "    if len(processed_data[i]) < PHRASE_SIZE:\n",
    "        processed_data[i] = []\n",
    "        data[i] = ''\n",
    "\n",
    "processed_data = [phrase for phrase in processed_data if phrase != []]\n",
    "data = [phrase for phrase in data if phrase != '']"
   ]
  },
  {
   "cell_type": "markdown",
   "metadata": {},
   "source": [
    "# Dumping data"
   ]
  },
  {
   "cell_type": "code",
   "execution_count": null,
   "metadata": {},
   "outputs": [],
   "source": [
    "save_corpus(processed_data, data)"
   ]
  }
 ],
 "metadata": {
  "kernelspec": {
   "display_name": "Python 3",
   "language": "python",
   "name": "python3"
  },
  "language_info": {
   "codemirror_mode": {
    "name": "ipython",
    "version": 3
   },
   "file_extension": ".py",
   "mimetype": "text/x-python",
   "name": "python",
   "nbconvert_exporter": "python",
   "pygments_lexer": "ipython3",
   "version": "3.7.4"
  }
 },
 "nbformat": 4,
 "nbformat_minor": 2
}

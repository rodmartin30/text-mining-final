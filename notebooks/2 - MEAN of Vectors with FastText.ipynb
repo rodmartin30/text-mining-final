{
 "cells": [
  {
   "cell_type": "markdown",
   "metadata": {},
   "source": [
    "## Summary\n",
    "* Getting data from corpus.\n",
    "* Train multiple fasttext models and save them.\n",
    "* Generate data frames using `get_features` and save them.\n",
    "* Load different models and make comparations among them.\n",
    "* Choose a model and make a visualization of the data."
   ]
  },
  {
   "cell_type": "code",
   "execution_count": null,
   "metadata": {},
   "outputs": [],
   "source": [
    "import matplotlib.pyplot as plt\n",
    "import numpy as np\n",
    "import pandas as pd\n",
    "import itertools\n",
    "\n",
    "from ipynb.fs.full import paths\n",
    "from ipynb.fs.full.utils_functions import load_corpus\n",
    "from gensim.models import FastText\n",
    "\n",
    "size_p = [5,12,18]\n",
    "window_p = [4,5]\n",
    "epochs_p = [50,200,400]"
   ]
  },
  {
   "cell_type": "code",
   "execution_count": null,
   "metadata": {},
   "outputs": [],
   "source": [
    "def get_features(doc, model):\n",
    "    \"\"\"\n",
    "        Params:\n",
    "            doc: document, list of sentences.\n",
    "            model: fasttext model.\n",
    "        Returns: list of vectors for each word.\n",
    "    \"\"\"\n",
    "    features = []\n",
    "    for sentence in doc:\n",
    "        if sentence == []:\n",
    "            continue\n",
    "        vectors = [model.wv[word] for word in sentence]\n",
    "        features.append(np.mean(vectors, axis=0))\n",
    "    return features"
   ]
  },
  {
   "cell_type": "code",
   "execution_count": null,
   "metadata": {},
   "outputs": [],
   "source": [
    "# Getting data.\n",
    "processed_data, data = load_corpus()\n",
    "# List with all the words in `data` (repeated NOT included).\n",
    "words = list(set(itertools.chain.from_iterable(processed_data)))"
   ]
  },
  {
   "cell_type": "code",
   "execution_count": null,
   "metadata": {},
   "outputs": [],
   "source": [
    "# Training and saving model.\n",
    "\n",
    "for epochsp in epochs_p:\n",
    "    for sizep in size_p:\n",
    "        for windowp in window_p:\n",
    "            print (\"Model with size={}, window={},epochs={}\".format(sizep,windowp,epochsp))\n",
    "            model = FastText(size=sizep, window=windowp, min_count=2, sg=1)  # instantiate\n",
    "            model.build_vocab(sentences=processed_data)\n",
    "            model.train(sentences=processed_data, total_examples=len(processed_data), epochs=epochsp) \n",
    "            \n",
    "            # Saving model\n",
    "            model.save(paths.FASTTEXT_MODEL_PATH + str(\"{}_{}_{}\".format(sizep,windowp,epochsp)))\n",
    "            \n",
    "            # Getting and saving features of the corpus.\n",
    "            data_mean_feature = get_features(processed_data, model)\n",
    "            dataframe_mean = pd.DataFrame(data_mean_feature)\n",
    "            dataframe_mean.to_pickle(paths.FASTTEXT_DF_PATH + str(\"{}_{}_{}.pkl\".format(sizep,windowp,epochsp)))"
   ]
  },
  {
   "cell_type": "code",
   "execution_count": null,
   "metadata": {
    "scrolled": true
   },
   "outputs": [],
   "source": [
    "# Loading models\n",
    "models = []\n",
    "ind = 0\n",
    "for epochsp in epochs_p:\n",
    "    for sizep in size_p:\n",
    "        for windowp in window_p:\n",
    "            print (ind,\"Model with size={}, window={},epochs={}\".format(sizep,windowp,epochsp))\n",
    "            models.append(FastText.load(paths.FASTTEXT_MODEL_PATH + str(\"{}_{}_{}\".format(sizep,windowp,epochsp))))\n",
    "            ind += 1"
   ]
  },
  {
   "cell_type": "code",
   "execution_count": null,
   "metadata": {},
   "outputs": [],
   "source": [
    "# Making comparation among the models to choose one.\n",
    "bads = [\n",
    "    7, 5, # lunes\n",
    "    12,15,20,29, # garganta\n",
    "    13,14,25, # rendir\n",
    "    10,27,34,35, # bondi\n",
    "    24,28, # fernet\n",
    "    7,33, # miercoles\n",
    "]\n",
    "for x in range(0,len(models)):\n",
    "    #if x in bads:\n",
    "        #continue\n",
    "    print(x,models[x].wv.most_similar('peso',topn=5),'\\n')"
   ]
  },
  {
   "cell_type": "markdown",
   "metadata": {},
   "source": [
    "# Visualization of the words"
   ]
  },
  {
   "cell_type": "code",
   "execution_count": null,
   "metadata": {},
   "outputs": [],
   "source": [
    "# Setting up\n",
    "model = models[3]\n",
    "vecs = []\n",
    "\n",
    "for word in words:\n",
    "    vecs.append(model.wv[word])\n",
    "\n",
    "    \n",
    "# Using Singular Value Decomposition to reduce dimensions.\n",
    "U, s, Vh = np.linalg.svd(vecs,full_matrices=False)\n",
    "\n",
    "# Plotting data\n",
    "for i in range(len(words)):\n",
    "        fig = plt.gcf()\n",
    "        fig.set_size_inches(18.5, 10.5)\n",
    "        plt.text(U[i,0], U[i,1], words[i])\n",
    "        plt.xlim((-0.1,-0.05))\n",
    "        plt.ylim((-0.01,0.01))\n",
    "\n",
    "plt.savefig('viz.jpg')"
   ]
  }
 ],
 "metadata": {
  "kernelspec": {
   "display_name": "Python 3",
   "language": "python",
   "name": "python3"
  },
  "language_info": {
   "codemirror_mode": {
    "name": "ipython",
    "version": 3
   },
   "file_extension": ".py",
   "mimetype": "text/x-python",
   "name": "python",
   "nbconvert_exporter": "python",
   "pygments_lexer": "ipython3",
   "version": "3.7.4"
  }
 },
 "nbformat": 4,
 "nbformat_minor": 2
}

{
 "cells": [
  {
   "cell_type": "code",
   "execution_count": null,
   "metadata": {},
   "outputs": [],
   "source": [
    "import matplotlib.pyplot as plt\n",
    "import numpy as np\n",
    "import pandas as pd\n",
    "\n",
    "\n",
    "from ipynb.fs.full.utils_functions import load_corpus\n",
    "from gensim.models import FastText\n",
    "\n",
    "size_p = [5,12,18]\n",
    "window_p = [4,5]\n",
    "epochs_p = [50,200,400]\n",
    "\n",
    "FASTTEXT_MODEL_PATH = 'models/fasttext/fasttext_'\n",
    "FASTTEXT_DF_PATH = 'data/fasttext/df_from_mean_fasttext_'"
   ]
  },
  {
   "cell_type": "code",
   "execution_count": null,
   "metadata": {},
   "outputs": [],
   "source": [
    "def get_features(doc, model):\n",
    "    features = []\n",
    "    for sentence in doc:\n",
    "        if sentence == []:\n",
    "            continue\n",
    "        vectors = [model.wv[word] for word in sentence]\n",
    "        features.append(np.mean(vectors, axis=0))\n",
    "    return features"
   ]
  },
  {
   "cell_type": "code",
   "execution_count": null,
   "metadata": {},
   "outputs": [],
   "source": [
    "# Getting data.\n",
    "data, original_data = load_corpus()\n",
    "\n",
    "# Getting list of words.\n",
    "\n",
    "words = []\n",
    "for phrase in data:\n",
    "    for word in phrase:\n",
    "        words.append(word)\n",
    "words = list(dict.fromkeys(words))"
   ]
  },
  {
   "cell_type": "code",
   "execution_count": null,
   "metadata": {},
   "outputs": [],
   "source": [
    "# Training and saving model.\n",
    "\n",
    "for epochsp in epochs_p:\n",
    "    for sizep in size_p:\n",
    "        for windowp in window_p:\n",
    "            print (\"Model with size={}, window={},epochs={}\".format(sizep,windowp,epochsp))\n",
    "            model = FastText(size=sizep, window=windowp, min_count=2, sg=1)  # instantiate\n",
    "            model.build_vocab(sentences=data)\n",
    "            model.train(sentences=data, total_examples=len(data), epochs=epochsp) \n",
    "            \n",
    "            # Saving model\n",
    "            model.save(FASTTEXT_MODEL_PATH + str(\"{}_{}_{}.pkl\".format(sizep,windowp,epochsp)))\n",
    "            # Getting and saving features of the corpus.\n",
    "\n",
    "            data_mean_feature = get_features(data, model)\n",
    "            dataframe_mean = pd.DataFrame(data_mean_feature)\n",
    "            dataframe_mean.to_pickle(FASTTEXT_DF_PATH + str(\"{}_{}_{}.pkl\".format(sizep,windowp,epochsp)))"
   ]
  },
  {
   "cell_type": "code",
   "execution_count": null,
   "metadata": {
    "scrolled": true
   },
   "outputs": [],
   "source": [
    "# Loading models\n",
    "models = []\n",
    "ind = 0\n",
    "for epochsp in epochs_p:\n",
    "    for sizep in size_p:\n",
    "        for windowp in window_p:\n",
    "            print (ind,\"Model with size={}, window={},epochs={}\".format(sizep,windowp,epochsp))\n",
    "            models.append(FastText.load(FASTTEXT_MODEL_PATH + str(\"{}_{}_{}.pkl\".format(sizep,windowp,epochsp))))\n",
    "            ind += 1"
   ]
  },
  {
   "cell_type": "code",
   "execution_count": null,
   "metadata": {},
   "outputs": [],
   "source": [
    "# Making comparation among the models to choose one.\n",
    "bads = [\n",
    "    0,1,2,16,26,19,22, # lunes\n",
    "    12,15,20,29, # garganta\n",
    "    13,14,25, # rendir\n",
    "    10,27,34,35, # bondi\n",
    "    24,28, # fernet\n",
    "    7,33, # miercoles\n",
    "]\n",
    "for x in range(0,ind):\n",
    "    if x in bads:\n",
    "        continue\n",
    "    print(x,models[x].wv.most_similar('cama',topn=5),'\\n')"
   ]
  },
  {
   "cell_type": "markdown",
   "metadata": {},
   "source": [
    "### Lets move with cluster 3"
   ]
  },
  {
   "cell_type": "markdown",
   "metadata": {},
   "source": [
    "# Visualization of the words"
   ]
  },
  {
   "cell_type": "code",
   "execution_count": null,
   "metadata": {},
   "outputs": [],
   "source": [
    "# Setting up\n",
    "model = models[3]\n",
    "vecs = []\n",
    "\n",
    "for word in words:\n",
    "    vecs.append(model.wv[word])\n",
    "\n",
    "    \n",
    "# Using Singular Value Decomposition to reduce dimensions.\n",
    "\n",
    "U, s, Vh = np.linalg.svd(vecs,full_matrices=False)\n",
    "\n",
    "# Plotting data\n",
    "\n",
    "for i in range(len(words)):\n",
    "        fig = plt.gcf()\n",
    "        fig.set_size_inches(18.5, 10.5)\n",
    "        plt.text(U[i,0], U[i,1], words[i])\n",
    "        plt.xlim((-0.1,-0.05))\n",
    "        plt.ylim((-0.01,0.01))\n",
    "\n",
    "plt.savefig('viz.jpg')"
   ]
  },
  {
   "cell_type": "code",
   "execution_count": null,
   "metadata": {},
   "outputs": [],
   "source": []
  }
 ],
 "metadata": {
  "kernelspec": {
   "display_name": "Python 3",
   "language": "python",
   "name": "python3"
  },
  "language_info": {
   "codemirror_mode": {
    "name": "ipython",
    "version": 3
   },
   "file_extension": ".py",
   "mimetype": "text/x-python",
   "name": "python",
   "nbconvert_exporter": "python",
   "pygments_lexer": "ipython3",
   "version": "3.7.4"
  }
 },
 "nbformat": 4,
 "nbformat_minor": 2
}

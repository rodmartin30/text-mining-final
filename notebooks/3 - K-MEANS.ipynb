{
 "cells": [
  {
   "cell_type": "markdown",
   "metadata": {},
   "source": [
    "## Summary\n",
    "* Clustering function\n",
    "* Load corpus\n",
    "* Load dataframe of the corpus\n",
    "* ELBOW method\n",
    "* KMEANS training\n",
    "* Bench kmeans\n",
    "* Save cluster ID to file\n",
    "* Clusters analisis\n",
    "* Join labels as string and save it into a file"
   ]
  },
  {
   "cell_type": "markdown",
   "metadata": {},
   "source": [
    "## K-MEANS CLUSTERING"
   ]
  },
  {
   "cell_type": "code",
   "execution_count": null,
   "metadata": {},
   "outputs": [],
   "source": [
    "from collections import defaultdict, Counter\n",
    "from time import time\n",
    "from sklearn.cluster import KMeans\n",
    "\n",
    "import matplotlib.pyplot as plt\n",
    "import pandas as pd\n",
    "import itertools\n",
    "\n",
    "from ipynb.fs.full import paths\n",
    "from ipynb.fs.full.utils_functions import load_corpus"
   ]
  },
  {
   "cell_type": "markdown",
   "metadata": {},
   "source": [
    "###  Constants"
   ]
  },
  {
   "cell_type": "code",
   "execution_count": null,
   "metadata": {},
   "outputs": [],
   "source": [
    "K_CLUSTERS = 12\n",
    "K_ITERS = 300"
   ]
  },
  {
   "cell_type": "markdown",
   "metadata": {},
   "source": [
    "### Clustering function"
   ]
  },
  {
   "cell_type": "code",
   "execution_count": null,
   "metadata": {},
   "outputs": [],
   "source": [
    "def clustering(vector, n_clusters, n_iter):\n",
    "    kmeans = KMeans(n_clusters=n_clusters, max_iter=n_iter, random_state=120)\n",
    "    kmeans.fit(vector)\n",
    "    v_labels = kmeans.predict(vector)\n",
    "    return kmeans, v_labels"
   ]
  },
  {
   "cell_type": "code",
   "execution_count": null,
   "metadata": {},
   "outputs": [],
   "source": [
    "# Getting data.\n",
    "processed_data, data = load_corpus()\n",
    "# List with all the words in `processed_data` (repeated included).\n",
    "distribution_words = Counter(list(itertools.chain.from_iterable(processed_data)))"
   ]
  },
  {
   "cell_type": "markdown",
   "metadata": {},
   "source": [
    "### Load DataFrame of the corpus"
   ]
  },
  {
   "cell_type": "code",
   "execution_count": null,
   "metadata": {},
   "outputs": [],
   "source": [
    "data_str = [' '.join(lst) for lst in processed_data]\n",
    "data_feature = pd.read_pickle(paths.DF_PATH)"
   ]
  },
  {
   "cell_type": "markdown",
   "metadata": {},
   "source": [
    "# Elbow method"
   ]
  },
  {
   "cell_type": "code",
   "execution_count": null,
   "metadata": {},
   "outputs": [],
   "source": [
    "# Run the Kmeans algorithm and get the index of data points clusters\n",
    "sse = []\n",
    "list_k = list(range(5, 50))\n",
    "\n",
    "for k in list_k:\n",
    "    km = KMeans(n_clusters=k)\n",
    "    km.fit(data_feature)\n",
    "    sse.append(km.inertia_)\n",
    "\n",
    "# Plot sse against k\n",
    "plt.figure(figsize=(6, 6))\n",
    "plt.plot(list_k, sse, '-o')\n",
    "plt.xlabel(r'Number of clusters *k*')\n",
    "plt.ylabel('Sum of squared distance');"
   ]
  },
  {
   "cell_type": "code",
   "execution_count": null,
   "metadata": {},
   "outputs": [],
   "source": [
    "kmeans, cluster_ids = clustering(data_feature, K_CLUSTERS, K_ITERS)\n",
    "#associate each word with its label\n",
    "c = list(zip(cluster_ids, data_str))\n",
    "\n",
    "cluster = defaultdict(set)\n",
    "for idc, word in c:\n",
    "    cluster[idc].add(word)"
   ]
  },
  {
   "cell_type": "markdown",
   "metadata": {},
   "source": [
    "### Save cluster_ids to file"
   ]
  },
  {
   "cell_type": "code",
   "execution_count": null,
   "metadata": {},
   "outputs": [],
   "source": [
    "df_cluster_ids = pd.DataFrame(data=cluster_ids)\n",
    "df_cluster_ids.to_pickle(paths.IDS_CLUSTER_PATH)"
   ]
  },
  {
   "cell_type": "markdown",
   "metadata": {},
   "source": [
    "### Cluster Analysis"
   ]
  },
  {
   "cell_type": "code",
   "execution_count": null,
   "metadata": {},
   "outputs": [],
   "source": [
    "from gensim.models import FastText\n",
    "from collections import Counter\n",
    "\n",
    "MOST_COMMON = 15\n",
    "MOST_COMMON_FOR_LABELS = 5\n",
    "MOST_SIMILAR = 5"
   ]
  },
  {
   "cell_type": "code",
   "execution_count": null,
   "metadata": {},
   "outputs": [],
   "source": [
    "# Load fasttext model\n",
    "model = FastText.load(paths.FASTTEXT_MODEL_PATH)"
   ]
  },
  {
   "cell_type": "code",
   "execution_count": null,
   "metadata": {},
   "outputs": [],
   "source": [
    "# Get most representative words for each cluster\n",
    "labels = []\n",
    "for clus in cluster:\n",
    "    print(\"ID cluster: \", clus)\n",
    "    words = []\n",
    "    for sentence in cluster[clus]:\n",
    "        sentence=sentence.split(' ')\n",
    "        for word in sentence:\n",
    "            words.append(word)\n",
    "    counter = Counter(words)\n",
    "    for word in counter:\n",
    "        if distribution_words[word] == 0:\n",
    "            continue\n",
    "        counter[word] = counter[word] / distribution_words[word] \n",
    "    counter.pop('', None)\n",
    "    most_common = counter.most_common(MOST_COMMON)\n",
    "    print(' '.join([tupla[0] for tupla in most_common]),'\\n')\n",
    "    words = [pair[0] for pair in most_common]\n",
    "    for word in most_common:\n",
    "        most_similar = model.wv.most_similar(word[0],topn=MOST_SIMILAR)\n",
    "        for pair in most_similar:\n",
    "            words.append(pair[0])\n",
    "    counter = Counter(words)\n",
    "    most_common = counter.most_common(MOST_COMMON_FOR_LABELS)\n",
    "    labels.append([pair[0] for pair in most_common])"
   ]
  },
  {
   "cell_type": "markdown",
   "metadata": {},
   "source": [
    "### Join labels as string and save it to file"
   ]
  },
  {
   "cell_type": "code",
   "execution_count": null,
   "metadata": {},
   "outputs": [],
   "source": [
    "cluster_labels = [\n",
    "    'Dinero | Finanzas',\n",
    "    'Dormir',\n",
    "    'Cumpleaños | Navidad',\n",
    "    'Juntada | Comida',\n",
    "    'Feliciones por logro',\n",
    "    'Familia | Villa Maria',\n",
    "    'Personas del CMU',\n",
    "    'Tramites | Viajes',\n",
    "    'Responsabilidades | CMU',\n",
    "    'Bardo | Otros',\n",
    "    'Saludo | Despedida',\n",
    "    'Archivos | Tramites pasantia'\n",
    "]"
   ]
  },
  {
   "cell_type": "code",
   "execution_count": null,
   "metadata": {},
   "outputs": [],
   "source": [
    "with open(paths.CLUSTER_LABELS_PATH,\"w\") as f:\n",
    "    f.write('\\n'.join(cluster_labels))"
   ]
  }
 ],
 "metadata": {
  "kernelspec": {
   "display_name": "Python 3",
   "language": "python",
   "name": "python3"
  },
  "language_info": {
   "codemirror_mode": {
    "name": "ipython",
    "version": 3
   },
   "file_extension": ".py",
   "mimetype": "text/x-python",
   "name": "python",
   "nbconvert_exporter": "python",
   "pygments_lexer": "ipython3",
   "version": "3.7.4"
  }
 },
 "nbformat": 4,
 "nbformat_minor": 2
}

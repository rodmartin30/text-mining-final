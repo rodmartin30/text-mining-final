{
 "cells": [
  {
   "cell_type": "markdown",
   "metadata": {},
   "source": [
    "## K-MEANS CLUSTERING"
   ]
  },
  {
   "cell_type": "code",
   "execution_count": null,
   "metadata": {},
   "outputs": [],
   "source": [
    "import pandas as pd\n",
    "data = ['perro','gato','gato','jabu','sol']\n",
    "df = pd.DataFrame(data,columns=['food'])\n",
    "import seaborn as sbn"
   ]
  },
  {
   "cell_type": "code",
   "execution_count": null,
   "metadata": {},
   "outputs": [],
   "source": [
    "#df['food'].value_counts()['perro']\n",
    "#df['food'].unique()\n",
    "key = df['food'].value_counts()\n",
    "for i,r in key.iterrows():\n",
    "    print(r,' | ',i)\n",
    "    break"
   ]
  },
  {
   "cell_type": "code",
   "execution_count": null,
   "metadata": {},
   "outputs": [],
   "source": [
    "from collections import defaultdict, Counter\n",
    "from time import time\n",
    "from sklearn.cluster import KMeans\n",
    "\n",
    "import matplotlib.pyplot as plt\n",
    "import pandas as pd\n",
    "\n",
    "\n",
    "from ipynb.fs.full.utils_functions import load_corpus"
   ]
  },
  {
   "cell_type": "markdown",
   "metadata": {},
   "source": [
    "###  Constants"
   ]
  },
  {
   "cell_type": "code",
   "execution_count": null,
   "metadata": {},
   "outputs": [],
   "source": [
    "K_CLUSTERS = 15\n",
    "K_ITERS = 250\n",
    "\n",
    "LABELS_PATH = \"data/labels_kmeans\"\n",
    "FASTTEXT_MODEL_PATH = 'models/fasttext/fasttext_5_4_50.pkl'\n",
    "DF_PATH = 'data/fasttext/df_from_mean_fasttext_5_4_50.pkl'\n",
    "KMEANS_CLUSTER_IDS = 'data/cluster_ids.pkl'"
   ]
  },
  {
   "cell_type": "markdown",
   "metadata": {},
   "source": [
    "### Clustering function"
   ]
  },
  {
   "cell_type": "code",
   "execution_count": null,
   "metadata": {},
   "outputs": [],
   "source": [
    "def clustering(vector, n_clusters, n_iter):\n",
    "    kmeans = KMeans(n_clusters=n_clusters, max_iter=n_iter, random_state=120)\n",
    "    kmeans.fit(vector)\n",
    "    v_labels = kmeans.predict(vector)\n",
    "    return kmeans, v_labels"
   ]
  },
  {
   "cell_type": "code",
   "execution_count": null,
   "metadata": {},
   "outputs": [],
   "source": [
    "# Getting data.\n",
    "data, original_data = load_corpus()\n",
    "\n",
    "st = []\n",
    "for lst in data:\n",
    "    st += lst\n",
    "distribution_words = Counter(st)"
   ]
  },
  {
   "cell_type": "markdown",
   "metadata": {},
   "source": [
    "### Load DataFrame of the corpus"
   ]
  },
  {
   "cell_type": "code",
   "execution_count": null,
   "metadata": {},
   "outputs": [],
   "source": [
    "data_str = [' '.join(lst) for lst in data]\n",
    "data_feature = pd.read_pickle(DF_PATH)"
   ]
  },
  {
   "cell_type": "markdown",
   "metadata": {},
   "source": [
    "### Scaled vectors ?"
   ]
  },
  {
   "cell_type": "markdown",
   "metadata": {},
   "source": [
    "from sklearn import preprocessing\n",
    "import pandas as pd\n",
    "\n",
    "print(data_feature.shape)\n",
    "row=data_feature[0]\n",
    "print(data_feature)\n",
    "X_scaled = preprocessing.scale(row)\n",
    "xpd = pd.DataFrame(data=X_scaled)\n",
    "print(row)\n",
    "from sklearn.preprocessing import MinMaxScaler\n",
    "scaler = MinMaxScaler()\n",
    "df_scaled = pd.DataFrame(scaler.fit_transform(data_feature), columns=data_feature.columns)\n"
   ]
  },
  {
   "cell_type": "markdown",
   "metadata": {},
   "source": [
    "# Elbow method"
   ]
  },
  {
   "cell_type": "code",
   "execution_count": null,
   "metadata": {},
   "outputs": [],
   "source": [
    "# Run the Kmeans algorithm and get the index of data points clusters\n",
    "sse = []\n",
    "list_k = list(range(5, 40))\n",
    "\n",
    "for k in list_k:\n",
    "    km = KMeans(n_clusters=k)\n",
    "    km.fit(data_feature)\n",
    "    sse.append(km.inertia_)\n",
    "\n",
    "# Plot sse against k\n",
    "plt.figure(figsize=(6, 6))\n",
    "plt.plot(list_k, sse, '-o')\n",
    "plt.xlabel(r'Number of clusters *k*')\n",
    "plt.ylabel('Sum of squared distance');"
   ]
  },
  {
   "cell_type": "code",
   "execution_count": null,
   "metadata": {},
   "outputs": [],
   "source": [
    "kmeans, cluster_ids = clustering(data_feature, K_CLUSTERS, K_ITERS)\n",
    "#associate each word with its label\n",
    "c = list(zip(cluster_ids, data_str))\n",
    "\n",
    "cluster = defaultdict(set)\n",
    "for idc, word in c:\n",
    "    cluster[idc].add(word)"
   ]
  },
  {
   "cell_type": "code",
   "execution_count": null,
   "metadata": {},
   "outputs": [],
   "source": [
    "def bench_k_means(estimator, name, data):\n",
    "    t0 = time()\n",
    "    estimator.fit(data)\n",
    "    print('%-9s\\t%.2fs\\t%i\\t%.3f\\t%.3f\\t%.3f\\t%.3f\\t%.3f\\t%.3f'\n",
    "          % (name, (time() - t0), estimator.inertia_,\n",
    "             metrics.homogeneity_score(labels, estimator.labels_),\n",
    "             metrics.completeness_score(labels, estimator.labels_),\n",
    "             metrics.v_measure_score(labels, estimator.labels_),\n",
    "             metrics.adjusted_rand_score(labels, estimator.labels_),\n",
    "             metrics.adjusted_mutual_info_score(labels,  estimator.labels_),\n",
    "             metrics.silhouette_score(data, estimator.labels_,\n",
    "                                      metric='euclidean',\n",
    "                                      sample_size=sample_size)))"
   ]
  },
  {
   "cell_type": "markdown",
   "metadata": {},
   "source": [
    "### Save cluster_ids to file"
   ]
  },
  {
   "cell_type": "code",
   "execution_count": null,
   "metadata": {},
   "outputs": [],
   "source": [
    "df_cluster_ids = pd.DataFrame(data=cluster_ids)\n",
    "df_cluster_ids.to_pickle(KMEANS_CLUSTER_IDS)"
   ]
  },
  {
   "cell_type": "markdown",
   "metadata": {},
   "source": [
    "___"
   ]
  },
  {
   "cell_type": "markdown",
   "metadata": {},
   "source": [
    "### Cluster Analysis"
   ]
  },
  {
   "cell_type": "code",
   "execution_count": null,
   "metadata": {},
   "outputs": [],
   "source": [
    "from gensim.models import FastText\n",
    "from collections import Counter\n",
    "\n",
    "MOST_COMMON = 10\n",
    "MOST_COMMON_FOR_LABELS = 5\n",
    "MOST_SIMILAR = 5"
   ]
  },
  {
   "cell_type": "code",
   "execution_count": null,
   "metadata": {},
   "outputs": [],
   "source": [
    "# Load fasttext model\n",
    "model = FastText.load(FASTTEXT_MODEL_PATH)"
   ]
  },
  {
   "cell_type": "code",
   "execution_count": null,
   "metadata": {},
   "outputs": [],
   "source": [
    "# Get most representative words for each cluster\n",
    "labels = []\n",
    "for clus in cluster:\n",
    "    words = []\n",
    "    for sentence in cluster[clus]:\n",
    "        sentence=sentence.split(' ')\n",
    "        for word in sentence:\n",
    "            words.append(word)\n",
    "    counter = Counter(words)\n",
    "    for word in counter:\n",
    "        if distribution_words[word] == 0:\n",
    "            continue\n",
    "        counter[word] = counter[word] / distribution_words[word] \n",
    "    counter.pop('', None)\n",
    "    most_common = counter.most_common(MOST_COMMON)\n",
    "    print(most_common,'\\n\\n')\n",
    "    words = [pair[0] for pair in most_common]\n",
    "    for word in most_common:\n",
    "        most_similar = model.wv.most_similar(word[0],topn=MOST_SIMILAR)\n",
    "        for pair in most_similar:\n",
    "            words.append(pair[0])\n",
    "    counter = Counter(words)\n",
    "    most_common = counter.most_common(MOST_COMMON_FOR_LABELS)\n",
    "    labels.append([pair[0] for pair in most_common])"
   ]
  },
  {
   "cell_type": "code",
   "execution_count": null,
   "metadata": {},
   "outputs": [],
   "source": [
    "cluster[8]"
   ]
  },
  {
   "cell_type": "markdown",
   "metadata": {},
   "source": [
    "### Join labels as string and save it to file"
   ]
  },
  {
   "cell_type": "code",
   "execution_count": null,
   "metadata": {},
   "outputs": [],
   "source": [
    "st = ''\n",
    "for x in labels:\n",
    "    st+= ', '.join(x)\n",
    "    st+='\\n'"
   ]
  },
  {
   "cell_type": "code",
   "execution_count": null,
   "metadata": {},
   "outputs": [],
   "source": [
    "with open(LABELS_PATH,\"w\") as f:\n",
    "    f.write(st)"
   ]
  },
  {
   "cell_type": "code",
   "execution_count": null,
   "metadata": {},
   "outputs": [],
   "source": []
  }
 ],
 "metadata": {
  "kernelspec": {
   "display_name": "Python 3",
   "language": "python",
   "name": "python3"
  },
  "language_info": {
   "codemirror_mode": {
    "name": "ipython",
    "version": 3
   },
   "file_extension": ".py",
   "mimetype": "text/x-python",
   "name": "python",
   "nbconvert_exporter": "python",
   "pygments_lexer": "ipython3",
   "version": "3.7.4"
  }
 },
 "nbformat": 4,
 "nbformat_minor": 2
}

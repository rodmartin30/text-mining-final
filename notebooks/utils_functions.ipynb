{
 "cells": [
  {
   "cell_type": "code",
   "execution_count": null,
   "metadata": {},
   "outputs": [],
   "source": [
    "import pickle\n",
    "from ipynb.fs.full import paths"
   ]
  },
  {
   "cell_type": "code",
   "execution_count": null,
   "metadata": {},
   "outputs": [],
   "source": [
    "def load_corpus():\n",
    "    \"\"\"\n",
    "        Returns:\n",
    "            processed_data: list of list of strings. Phrases which were filtered and procesed.\n",
    "            data: list of list of strings. Original phrases. \n",
    "    \"\"\"\n",
    "    processed_data = []\n",
    "    data = []\n",
    "    with open(paths.CORPUS_FILTERED_MESSAGES, \"rb\") as f:\n",
    "        processed_data = pickle.load(f)\n",
    "    with open(paths.CORPUS_MESSAGES, \"rb\") as f:\n",
    "        data = pickle.load(f)\n",
    "\n",
    "    assert(type(processed_data) is list)\n",
    "    assert(type(processed_data[0]) is list)\n",
    "    assert(type(processed_data[0][0]) is str)\n",
    "    assert(type(data) is list)\n",
    "    assert(type(data[0]) is str)\n",
    "    assert(len(processed_data) == len(data))\n",
    "\n",
    "    return processed_data, data"
   ]
  },
  {
   "cell_type": "code",
   "execution_count": null,
   "metadata": {},
   "outputs": [],
   "source": [
    "def save_corpus(processed_data, data):\n",
    "    \"\"\"\n",
    "    Returns:\n",
    "        processed_data: list of list of strings. Phrases which were filtered and procesed.\n",
    "        data: list of list of strings. Original phrases. \n",
    "    \"\"\"\n",
    "    assert(type(processed_data) is list)\n",
    "    assert(type(processed_data[0]) is list)\n",
    "    assert(type(processed_data[0][0]) is str)\n",
    "    assert(type(data) is list)\n",
    "    assert(type(data[0]) is str)\n",
    "    assert(len(processed_data) == len(data))\n",
    "\n",
    "    with open(paths.CORPUS_FILTERED_MESSAGES, 'wb') as f:\n",
    "        pickle.dump(processed_data, f)\n",
    "    with open(paths.CORPUS_MESSAGES, 'wb') as f:\n",
    "        pickle.dump(data, f)"
   ]
  }
 ],
 "metadata": {
  "kernelspec": {
   "display_name": "Python 3",
   "language": "python",
   "name": "python3"
  },
  "language_info": {
   "codemirror_mode": {
    "name": "ipython",
    "version": 3
   },
   "file_extension": ".py",
   "mimetype": "text/x-python",
   "name": "python",
   "nbconvert_exporter": "python",
   "pygments_lexer": "ipython3",
   "version": "3.7.4"
  }
 },
 "nbformat": 4,
 "nbformat_minor": 2
}

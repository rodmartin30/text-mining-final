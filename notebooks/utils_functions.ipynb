{
 "cells": [
  {
   "cell_type": "code",
   "execution_count": null,
   "metadata": {},
   "outputs": [],
   "source": [
    "import pickle\n",
    "from ipynb.fs.full import paths"
   ]
  },
  {
   "cell_type": "code",
   "execution_count": null,
   "metadata": {},
   "outputs": [],
   "source": [
    "def load_corpus():\n",
    "    \"\"\"\n",
    "        Returns:\n",
    "            data: list of strings. Phrases which were filtered and procesed.\n",
    "            pre_data: list of strings. Original phrases. \n",
    "    \"\"\"\n",
    "    pre_data = []\n",
    "    data = []\n",
    "    with open(paths.CORPUS_MESSAGES, \"rb\") as f:\n",
    "        data = pickle.load(f)\n",
    "    with open(paths.CORPUS_FILTERED_MESSAGES, \"rb\") as f:\n",
    "        pre_data = pickle.load(f)\n",
    "\n",
    "    return data, pre_data"
   ]
  }
 ],
 "metadata": {
  "kernelspec": {
   "display_name": "Python 3",
   "language": "python",
   "name": "python3"
  },
  "language_info": {
   "codemirror_mode": {
    "name": "ipython",
    "version": 3
   },
   "file_extension": ".py",
   "mimetype": "text/x-python",
   "name": "python",
   "nbconvert_exporter": "python",
   "pygments_lexer": "ipython3",
   "version": "3.7.4"
  }
 },
 "nbformat": 4,
 "nbformat_minor": 2
}

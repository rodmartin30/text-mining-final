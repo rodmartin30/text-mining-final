{
 "cells": [
  {
   "cell_type": "code",
   "execution_count": null,
   "metadata": {},
   "outputs": [],
   "source": [
    "import pickle"
   ]
  },
  {
   "cell_type": "code",
   "execution_count": null,
   "metadata": {},
   "outputs": [],
   "source": [
    "MESSAGES_PATH = 'data/text2corpus/corpus_messages.txt'\n",
    "ORIGINAL_MESSAGES_PATH = 'data/text2corpus/corpus_original_messages.txt'"
   ]
  },
  {
   "cell_type": "code",
   "execution_count": null,
   "metadata": {},
   "outputs": [],
   "source": [
    "def load_corpus():\n",
    "    pre_data = []\n",
    "    data = []\n",
    "    with open(MESSAGES_PATH, \"rb\") as f:\n",
    "        data = pickle.load(f)\n",
    "    with open(ORIGINAL_MESSAGES_PATH, \"rb\") as f:\n",
    "        pre_data = pickle.load(f)\n",
    "\n",
    "    return data, pre_data"
   ]
  },
  {
   "cell_type": "code",
   "execution_count": null,
   "metadata": {},
   "outputs": [],
   "source": []
  }
 ],
 "metadata": {
  "kernelspec": {
   "display_name": "Python 3",
   "language": "python",
   "name": "python3"
  },
  "language_info": {
   "codemirror_mode": {
    "name": "ipython",
    "version": 3
   },
   "file_extension": ".py",
   "mimetype": "text/x-python",
   "name": "python",
   "nbconvert_exporter": "python",
   "pygments_lexer": "ipython3",
   "version": "3.7.4"
  }
 },
 "nbformat": 4,
 "nbformat_minor": 2
}

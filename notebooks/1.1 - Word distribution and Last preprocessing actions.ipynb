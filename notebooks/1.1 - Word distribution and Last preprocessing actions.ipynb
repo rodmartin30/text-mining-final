{
 "cells": [
  {
   "cell_type": "markdown",
   "metadata": {},
   "source": [
    "## Summary\n",
    "\n",
    "* Word distribution.\n",
    "    * Show amount of words.\n",
    "    * 20 least repeted words.\n",
    "    * 20 Most repeated words.\n",
    "* Remove specifict words.\n",
    "* Dumping data."
   ]
  },
  {
   "cell_type": "code",
   "execution_count": null,
   "metadata": {},
   "outputs": [],
   "source": [
    "import glob\n",
    "import pandas as pd\n",
    "import pickle\n",
    "import csv\n",
    "\n",
    "from collections import Counter\n",
    "from itertools import chain\n",
    "from ipynb.fs.full import paths\n",
    "from ipynb.fs.full.utils_functions import load_corpus"
   ]
  },
  {
   "cell_type": "code",
   "execution_count": null,
   "metadata": {},
   "outputs": [],
   "source": [
    "# Getting data.\n",
    "data, original_data = load_corpus()"
   ]
  },
  {
   "cell_type": "code",
   "execution_count": null,
   "metadata": {},
   "outputs": [],
   "source": [
    "# List with all the words in `data` (repeated included).\n",
    "words_list = (' '.join(data)).split(' ')\n",
    "# Get counter of words.\n",
    "distribution_words = Counter(words_list)\n",
    "# Get counter of words in type dataFrame.\n",
    "df_distribution = pd.DataFrame(data={'word': list(distribution_words.keys()), 'counter': list(distribution_words.values())})"
   ]
  },
  {
   "cell_type": "code",
   "execution_count": null,
   "metadata": {},
   "outputs": [],
   "source": [
    "# Show distribution of each word.\n",
    "df_distribution"
   ]
  },
  {
   "cell_type": "markdown",
   "metadata": {},
   "source": [
    "# Least repeated words"
   ]
  },
  {
   "cell_type": "code",
   "execution_count": null,
   "metadata": {},
   "outputs": [],
   "source": [
    "df_distribution.sort_values('counter').head(20)"
   ]
  },
  {
   "cell_type": "markdown",
   "metadata": {},
   "source": [
    "# Most repeated words"
   ]
  },
  {
   "cell_type": "code",
   "execution_count": null,
   "metadata": {},
   "outputs": [],
   "source": [
    "df_distribution.sort_values('counter', ascending=False).head(20)"
   ]
  },
  {
   "cell_type": "markdown",
   "metadata": {},
   "source": [
    "# Remove specifict words"
   ]
  },
  {
   "cell_type": "code",
   "execution_count": null,
   "metadata": {},
   "outputs": [],
   "source": [
    "removed = {\n",
    "    'omitted':'',\n",
    "    'jeje':'',\n",
    "    'ero':'',\n",
    "    'vos':'',\n",
    "    '..':'',\n",
    "    '...':'',\n",
    "    '....':'',\n",
    "    '.....':'',\n",
    "    'media':'',\n",
    "    'location':'',\n",
    "    'missed':'',\n",
    "    'res':'',\n",
    "    '@5493534134937':''\n",
    "}\n",
    "# Remove words which appears more than 50% of times.\n",
    "for word in distribution_words:\n",
    "    if len(distribution_words) * 0.4 < distribution_words[word]:\n",
    "        print(word)\n",
    "        removed[word] = ''\n",
    "new_data = []\n",
    "for phrase in data:\n",
    "    new_phrase = []\n",
    "    for word in phrase:\n",
    "        if word in removed:\n",
    "            continue\n",
    "        new_phrase.append(word)\n",
    "    new_data.append(new_phrase)\n",
    "data=new_data.copy()"
   ]
  },
  {
   "cell_type": "markdown",
   "metadata": {},
   "source": [
    "# Dumping data to overwrite corpus"
   ]
  },
  {
   "cell_type": "code",
   "execution_count": null,
   "metadata": {},
   "outputs": [],
   "source": [
    "with open(paths.CORPUS_MESSAGES, 'wb') as f:\n",
    "    pickle.dump(data, f)\n",
    "with open(paths.CORPUS_FILTERED_MESSAGES, 'wb') as f:\n",
    "    pickle.dump(original_data, f)"
   ]
  }
 ],
 "metadata": {
  "kernelspec": {
   "display_name": "Python 3",
   "language": "python",
   "name": "python3"
  },
  "language_info": {
   "codemirror_mode": {
    "name": "ipython",
    "version": 3
   },
   "file_extension": ".py",
   "mimetype": "text/x-python",
   "name": "python",
   "nbconvert_exporter": "python",
   "pygments_lexer": "ipython3",
   "version": "3.7.4"
  }
 },
 "nbformat": 4,
 "nbformat_minor": 2
}

{
 "cells": [
  {
   "cell_type": "code",
   "execution_count": null,
   "metadata": {},
   "outputs": [],
   "source": [
    "# Change ROOT_PATH for your project.\n",
    "ROOT_PATH = '/Users/rodmartin/text-mining-final/'\n",
    "NOTEBOOKS_PATH = ROOT_PATH + 'notebooks/'\n",
    "DATA_PATH = ROOT_PATH + 'data/'\n",
    "IMAGES_PATH = ROOT_PATH + 'images/'\n",
    "DEMO_PATH = ROOT_PATH + 'demo/'\n",
    "MODELS_PATH = ROOT_PATH + 'models/'\n",
    "\n",
    "# \n",
    "EMBEDDINGS_PATH = MODELS_PATH + 'embeddings/'\n",
    "CLUSTERING_PATH = MODELS_PATH + 'clustering/'\n",
    "CLASSIFIER_PATH = MODELS_PATH + 'classifier/'\n",
    "\n",
    "# EMBEDDINGS\n",
    "FASTTEXT_MODEL_PATH = EMBEDDINGS_PATH + 'model_fasttext_'\n",
    "FASTTEXT_DF_PATH = EMBEDDINGS_PATH + 'df_fasttext_'\n",
    "\n",
    "# DATA\n",
    "# This path is under another directory since contains private data.\n",
    "TXT_FILES_PATH = \"/Users/rodmartin/textmining/text-mining/dialog-tagging/data/*Pina.txt\"\n",
    "CORPUS_PATH = DATA_PATH + 'corpus/'\n",
    "CORPUS_FILTERED_MESSAGES = CORPUS_PATH + 'filtered_messages.txt'\n",
    "CORPUS_MESSAGES = CORPUS_PATH + 'messages.txt'"
   ]
  }
 ],
 "metadata": {
  "kernelspec": {
   "display_name": "Python 3",
   "language": "python",
   "name": "python3"
  },
  "language_info": {
   "codemirror_mode": {
    "name": "ipython",
    "version": 3
   },
   "file_extension": ".py",
   "mimetype": "text/x-python",
   "name": "python",
   "nbconvert_exporter": "python",
   "pygments_lexer": "ipython3",
   "version": "3.7.4"
  }
 },
 "nbformat": 4,
 "nbformat_minor": 2
}

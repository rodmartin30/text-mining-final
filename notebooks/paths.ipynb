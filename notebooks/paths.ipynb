{
 "cells": [
  {
   "cell_type": "code",
   "execution_count": null,
   "metadata": {},
   "outputs": [],
   "source": [
    "# Change ROOT_PATH for your project.\n",
    "ROOT_PATH = '/Users/rodmartin/text-mining-final/'\n",
    "NOTEBOOKS_PATH = ROOT_PATH + 'notebooks/'\n",
    "DATA_PATH = ROOT_PATH + 'data/'\n",
    "IMAGES_PATH = ROOT_PATH + 'images/'\n",
    "DEMO_PATH = ROOT_PATH + 'demo/'\n",
    "MODELS_PATH = ROOT_PATH + 'models/'\n",
    "DEMO_FILES_PATH = ROOT_PATH + 'demo/'\n",
    "\n",
    "# \n",
    "EMBEDDINGS_PATH = MODELS_PATH + 'embeddings/'\n",
    "CLUSTERING_PATH = MODELS_PATH + 'clustering/'\n",
    "CLASSIFIER_PATH = MODELS_PATH + 'classifier/'\n",
    "\n",
    "# EMBEDDINGS\n",
    "FASTTEXT_MODEL_PATH = EMBEDDINGS_PATH + 'model_fasttext_'\n",
    "FASTTEXT_DF_PATH = EMBEDDINGS_PATH + 'df_fasttext_'\n",
    "BOW_TFIDF_DF_PATH = EMBEDDINGS_PATH + 'df_bow_tfidf.pkl'\n",
    "\n",
    "# CLUSTERING\n",
    "IDS_CLUSTER_PATH = CLUSTERING_PATH + 'kmeans_cluster_ids.pkl' # This is the clusters id for each sentence of the corpus.\n",
    "CLUSTER_LABELS_PATH = CLUSTERING_PATH + 'kmeans_label' # This is the label of each cluster. A string which identify the topic.\n",
    "\n",
    "# DATA\n",
    "# This path is under another directory since contains private data.\n",
    "TXT_FILES_PATH = \"/Users/rodmartin/textmining/text-mining/dialog-tagging/data/*.txt\"\n",
    "CORPUS_PATH = DATA_PATH + 'corpus/'\n",
    "CORPUS_FILTERED_MESSAGES = CORPUS_PATH + 'filtered_messages.txt'\n",
    "CORPUS_MESSAGES = CORPUS_PATH + 'messages.txt'\n",
    "\n",
    "# FASTTEXT MODEL AND DATA FRAME CHOICES\n",
    "FASTTEXT_MODEL_PATH = EMBEDDINGS_PATH + 'model_fasttext_12_4_50'\n",
    "DF_PATH = EMBEDDINGS_PATH + 'df_fasttext_12_4_50.pkl'\n",
    "\n",
    "# CLASSIFIER\n",
    "CLASSIFIER_MODEL_PATH = CLASSIFIER_PATH + 'model.pkl'\n",
    "TRANSFORMER_PATH = CLASSIFIER_PATH + 'transformer.pkl'"
   ]
  }
 ],
 "metadata": {
  "kernelspec": {
   "display_name": "Python 3",
   "language": "python",
   "name": "python3"
  },
  "language_info": {
   "codemirror_mode": {
    "name": "ipython",
    "version": 3
   },
   "file_extension": ".py",
   "mimetype": "text/x-python",
   "name": "python",
   "nbconvert_exporter": "python",
   "pygments_lexer": "ipython3",
   "version": "3.7.4"
  }
 },
 "nbformat": 4,
 "nbformat_minor": 2
}

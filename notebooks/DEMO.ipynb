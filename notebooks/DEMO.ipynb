{
 "cells": [
  {
   "cell_type": "markdown",
   "metadata": {},
   "source": [
    "### IMPORTS"
   ]
  },
  {
   "cell_type": "code",
   "execution_count": null,
   "metadata": {},
   "outputs": [],
   "source": [
    "from gensim.models import FastText\n",
    "from ipynb.fs.full.pre_processing_functions import pre_processing\n",
    "from ipynb.fs.full.logistic_regression_functions import get_top_k_predictions\n",
    "from ipynb.fs.full import paths\n",
    "\n",
    "import pickle\n",
    "import numpy as np\n",
    "import pandas as pd"
   ]
  },
  {
   "cell_type": "markdown",
   "metadata": {},
   "source": [
    "### Load model, transformer and labels"
   ]
  },
  {
   "cell_type": "code",
   "execution_count": null,
   "metadata": {},
   "outputs": [],
   "source": [
    "with open(paths.CLASSIFIER_MODEL_PATH, 'rb') as file:\n",
    "    classifier = pickle.load(file)\n",
    "with open(paths.TRANSFORMER_PATH, 'rb') as file:\n",
    "    feature_transformer = pickle.load(file)\n",
    "\n",
    "# Load Fasttext model\n",
    "fasttext_model = FastText.load(paths.FASTTEXT_MODEL_PATH)\n",
    "\n",
    "# Load labels of clusters\n",
    "with open(paths.CLUSTER_LABELS_PATH, 'r') as file:\n",
    "    labels_str = file.read()\n",
    "print(\"This are the labels of each cluster:\\n\")\n",
    "print(labels_str)"
   ]
  },
  {
   "cell_type": "code",
   "execution_count": null,
   "metadata": {},
   "outputs": [],
   "source": [
    "# Make labels_str a list of labels.\n",
    "labels = labels_str.split('\\n')"
   ]
  },
  {
   "cell_type": "markdown",
   "metadata": {},
   "source": [
    "### DEMO TIME"
   ]
  },
  {
   "cell_type": "code",
   "execution_count": null,
   "metadata": {},
   "outputs": [],
   "source": [
    "def demo_example(file_path):\n",
    "    # Step 1 is get the chat txt and do a pre processing of it.\n",
    "    message, original_message = pre_processing(file_path)\n",
    "    \n",
    "    # Show text example.\n",
    "\n",
    "    print('Mensaje preprocesado:\\n')\n",
    "    print(message)\n",
    "    \n",
    "    # Step 2 is to get the features of the current conversations.\n",
    "    list_messages = [' '.join(x) for x in message]\n",
    "    features = feature_transformer.transform(list_messages)\n",
    "    \n",
    "    # Step 3 is to give to the model the features of the conversations and get predictions.\n",
    "    result = get_top_k_predictions(classifier, features, 1)\n",
    "    \n",
    "    # Step 4 is see what were the predictions of the model.\n",
    "    result_with_labels = [labels[x] for x in result[0]]\n",
    "    print('\\nPredicciones:')\n",
    "    for x in result_with_labels:\n",
    "        print(x)\n",
    "    print(\"-------------------- FIN EXAMPLE DEMO --------------------\\n\\n\")\n",
    "\n",
    "def demo():\n",
    "    filenames = [\n",
    "        'example_money_usd_finance.txt',\n",
    "        'example_university.txt',\n",
    "        'example_viaje_cumbrecita.txt',\n",
    "        'example_viajes.txt',\n",
    "        'example_navidad.txt'\n",
    "    ]\n",
    "    for filename in filenames:\n",
    "        demo_example(paths.DEMO_FILES_PATH + filename)\n",
    "    "
   ]
  },
  {
   "cell_type": "code",
   "execution_count": null,
   "metadata": {},
   "outputs": [],
   "source": [
    "demo()"
   ]
  }
 ],
 "metadata": {
  "kernelspec": {
   "display_name": "Python 3",
   "language": "python",
   "name": "python3"
  },
  "language_info": {
   "codemirror_mode": {
    "name": "ipython",
    "version": 3
   },
   "file_extension": ".py",
   "mimetype": "text/x-python",
   "name": "python",
   "nbconvert_exporter": "python",
   "pygments_lexer": "ipython3",
   "version": "3.7.4"
  }
 },
 "nbformat": 4,
 "nbformat_minor": 2
}

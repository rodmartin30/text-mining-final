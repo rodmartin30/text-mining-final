{
 "cells": [
  {
   "cell_type": "code",
   "execution_count": null,
   "metadata": {},
   "outputs": [],
   "source": [
    "import pandas as pd\n",
    "import numpy as np\n",
    "\n",
    "from ipynb.fs.full.utils_functions import load_corpus\n",
    "from gensim.models import FastText"
   ]
  },
  {
   "cell_type": "code",
   "execution_count": null,
   "metadata": {},
   "outputs": [],
   "source": [
    "def get_features(doc, model):\n",
    "    features = []\n",
    "    for sentence in doc:\n",
    "        vectors = [model.wv[word] for word in sentence]\n",
    "        features.append(np.mean(vectors, axis=0))\n",
    "    return features"
   ]
  },
  {
   "cell_type": "code",
   "execution_count": null,
   "metadata": {},
   "outputs": [],
   "source": [
    "# Getting data.\n",
    "data, original_data = load_corpus()\n",
    "# Training and saving model.\n",
    "model = FastText(data, size=100, window=5, min_count=5, workers=4,sg=1)\n",
    "# Getting and saving features of the corpus.\n",
    "data_mean_feature = get_features(data, model)\n",
    "dataframe_mean = pd.DataFrame(data_mean_feature)\n",
    "dataframe_mean.to_pickle(\"data/df_from_mean_fasttext.pkl\")"
   ]
  }
 ],
 "metadata": {
  "kernelspec": {
   "display_name": "Python 3",
   "language": "python",
   "name": "python3"
  },
  "language_info": {
   "codemirror_mode": {
    "name": "ipython",
    "version": 3
   },
   "file_extension": ".py",
   "mimetype": "text/x-python",
   "name": "python",
   "nbconvert_exporter": "python",
   "pygments_lexer": "ipython3",
   "version": "3.7.4"
  }
 },
 "nbformat": 4,
 "nbformat_minor": 2
}

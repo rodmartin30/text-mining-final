{
 "cells": [
  {
   "cell_type": "code",
   "execution_count": null,
   "metadata": {},
   "outputs": [],
   "source": [
    "import matplotlib.pyplot as plt\n",
    "import numpy as np\n",
    "import pandas as pd\n",
    "\n",
    "\n",
    "from ipynb.fs.full.utils_functions import load_corpus\n",
    "from gensim.models import FastText"
   ]
  },
  {
   "cell_type": "code",
   "execution_count": null,
   "metadata": {},
   "outputs": [],
   "source": [
    "def get_features(doc, model):\n",
    "    features = []\n",
    "    for sentence in doc:\n",
    "        if sentence == []:\n",
    "            continue\n",
    "        vectors = [model.wv[word] for word in sentence]\n",
    "        features.append(np.mean(vectors, axis=0))\n",
    "    return features"
   ]
  },
  {
   "cell_type": "code",
   "execution_count": null,
   "metadata": {},
   "outputs": [],
   "source": [
    "# Getting data.\n",
    "data, original_data = load_corpus()\n",
    "\n",
    "# Getting list of words.\n",
    "\n",
    "words = []\n",
    "for phrase in data:\n",
    "    for word in phrase:\n",
    "        words.append(word)\n",
    "words = list(dict.fromkeys(words))\n",
    "\n",
    "# Training and saving model.\n",
    "\n",
    "model = FastText(size=20, window=2, min_count=5)  # instantiate\n",
    "model.build_vocab(sentences=words)\n",
    "model.train(sentences=words, total_examples=len(words), epochs=5000) \n",
    "\n",
    "# Getting and saving features of the corpus.\n",
    "\n",
    "data_mean_feature = get_features(data, model)\n",
    "dataframe_mean = pd.DataFrame(data_mean_feature)\n",
    "dataframe_mean.to_pickle(\"data/df_from_mean_fasttext.pkl\")"
   ]
  },
  {
   "cell_type": "markdown",
   "metadata": {},
   "source": [
    "# Visualization of the words"
   ]
  },
  {
   "cell_type": "code",
   "execution_count": null,
   "metadata": {},
   "outputs": [],
   "source": [
    "# Setting up\n",
    "\n",
    "vecs = []\n",
    "\n",
    "for word in words:\n",
    "    vecs.append(model.wv[word])\n",
    "\n",
    "    \n",
    "# Using Singular Value Decomposition to reduce dimensions.\n",
    "\n",
    "U, s, Vh = np.linalg.svd(vecs,full_matrices=False)\n",
    "\n",
    "# Plotting data\n",
    "\n",
    "for i in range(len(words)):\n",
    "        fig = plt.gcf()\n",
    "        fig.set_size_inches(18.5, 10.5)\n",
    "        plt.text(U[i,0], U[i,1], words[i])\n",
    "        plt.xlim((-0.05,0.05))\n",
    "        plt.ylim((-0.05,0.05))\n",
    "\n",
    "\n",
    "plt.savefig('viz.jpg')"
   ]
  },
  {
   "cell_type": "code",
   "execution_count": null,
   "metadata": {},
   "outputs": [],
   "source": []
  }
 ],
 "metadata": {
  "kernelspec": {
   "display_name": "Python 3",
   "language": "python",
   "name": "python3"
  },
  "language_info": {
   "codemirror_mode": {
    "name": "ipython",
    "version": 3
   },
   "file_extension": ".py",
   "mimetype": "text/x-python",
   "name": "python",
   "nbconvert_exporter": "python",
   "pygments_lexer": "ipython3",
   "version": "3.7.4"
  }
 },
 "nbformat": 4,
 "nbformat_minor": 2
}

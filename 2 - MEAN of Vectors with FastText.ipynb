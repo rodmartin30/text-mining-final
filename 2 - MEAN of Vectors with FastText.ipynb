{
 "cells": [
  {
   "cell_type": "code",
   "execution_count": null,
   "metadata": {},
   "outputs": [],
   "source": [
    "import matplotlib.pyplot as plt\n",
    "import numpy as np\n",
    "import pandas as pd\n",
    "\n",
    "\n",
    "from ipynb.fs.full.utils_functions import load_corpus\n",
    "from gensim.models import FastText\n",
    "\n",
    "size_p = [5,10,12,18]\n",
    "window_p = [4,5,6]\n",
    "epochs_p = [50,300,600]\n",
    "\n",
    "FASTTEXT_MODEL_PATH = 'models/fasttext/fasttext_'"
   ]
  },
  {
   "cell_type": "code",
   "execution_count": null,
   "metadata": {},
   "outputs": [],
   "source": [
    "def get_features(doc, model):\n",
    "    features = []\n",
    "    for sentence in doc:\n",
    "        if sentence == []:\n",
    "            continue\n",
    "        vectors = [model.wv[word] for word in sentence]\n",
    "        features.append(np.mean(vectors, axis=0))\n",
    "    return features"
   ]
  },
  {
   "cell_type": "code",
   "execution_count": null,
   "metadata": {},
   "outputs": [],
   "source": [
    "# Getting data.\n",
    "data, original_data = load_corpus()"
   ]
  },
  {
   "cell_type": "code",
   "execution_count": null,
   "metadata": {},
   "outputs": [],
   "source": [
    "# Getting list of words.\n",
    "\n",
    "words = []\n",
    "for phrase in data:\n",
    "    for word in phrase:\n",
    "        words.append(word)\n",
    "words = list(dict.fromkeys(words))\n",
    "\n",
    "# Training and saving model.\n",
    "\n",
    "for epochsp in epochs_p:\n",
    "    for sizep in size_p:\n",
    "        for windowp in window_p:\n",
    "            print (\"Model with size={}, window={},epochs={}\".format(sizep,windowp,epochsp))\n",
    "            model = FastText(size=sizep, window=windowp, min_count=2, sg=1)  # instantiate\n",
    "            model.build_vocab(sentences=data)\n",
    "            model.train(sentences=data, total_examples=len(data), epochs=epochsp) \n",
    "            \n",
    "            # Saving model\n",
    "            model.save(FASTTEXT_MODEL_PATH + str(\"{}_{}_{}.pkl\".format(sizep,windowp,epochsp)))\n",
    "            # Getting and saving features of the corpus.\n",
    "\n",
    "            data_mean_feature = get_features(data, model)\n",
    "            dataframe_mean = pd.DataFrame(data_mean_feature)\n",
    "            dataframe_mean.to_pickle(\"data/df_from_mean_fasttext_{}_{}_{}.pkl\".format(sizep,windowp,epochsp))"
   ]
  },
  {
   "cell_type": "code",
   "execution_count": null,
   "metadata": {
    "scrolled": true
   },
   "outputs": [],
   "source": [
    "models = []\n",
    "ind = 0\n",
    "for epochsp in epochs_p:\n",
    "    for sizep in size_p:\n",
    "        for windowp in window_p:\n",
    "            print (ind,\"Model with size={}, window={},epochs={}\".format(sizep,windowp,epochsp))\n",
    "            models.append(FastText.load(FASTTEXT_MODEL_PATH + str(\"{}_{}_{}.pkl\".format(sizep,windowp,epochsp))))\n",
    "            ind += 1"
   ]
  },
  {
   "cell_type": "code",
   "execution_count": 103,
   "metadata": {},
   "outputs": [
    {
     "name": "stdout",
     "output_type": "stream",
     "text": [
      "3 [('dormir', 0.9498540759086609), ('despertar', 0.9139439463615417), ('levante', 0.9076552391052246), ('peli', 0.8941628932952881), ('sueño', 0.8828880786895752)] \n",
      "\n",
      "4 [('dormir', 0.968225359916687), ('despertar', 0.9300165176391602), ('acostado', 0.9167370200157166), ('diente', 0.9046576023101807), ('living', 0.9032378792762756)] \n",
      "\n",
      "5 [('dormir', 0.9424377679824829), ('despertar', 0.9314313530921936), ('diente', 0.9107272624969482), ('peli', 0.8979694843292236), ('levantar', 0.8935658931732178)] \n",
      "\n",
      "6 [('dormir', 0.9100430011749268), ('despertar', 0.8954784274101257), ('diente', 0.8871906995773315), ('peli', 0.8625540733337402), ('dormi', 0.852523684501648)] \n",
      "\n",
      "8 [('dormir', 0.923529326915741), ('living', 0.9164628982543945), ('despertar', 0.9055368900299072), ('peli', 0.8891691565513611), ('dormi', 0.865797221660614)] \n",
      "\n",
      "9 [('living', 0.8600726127624512), ('levante', 0.8035306930541992), ('diente', 0.784979522228241), ('levantar', 0.7772561311721802), ('alcohol', 0.7713462710380554)] \n",
      "\n",
      "11 [('dormir', 0.8712217807769775), ('living', 0.8476899266242981), ('despertar', 0.840572714805603), ('peli', 0.826484203338623), ('volvi', 0.8259625434875488)] \n",
      "\n",
      "17 [('dormir', 0.9169384241104126), ('despertar', 0.9150789380073547), ('acostado', 0.8893920183181763), ('acostar', 0.8647251129150391), ('living', 0.8469293713569641)] \n",
      "\n",
      "18 [('dormir', 0.9099490642547607), ('despertar', 0.8965767621994019), ('bichin', 0.835136353969574), ('living', 0.8225355744361877), ('bichi', 0.8156235218048096)] \n",
      "\n",
      "21 [('dormir', 0.8617762327194214), ('despertar', 0.8389619588851929), ('living', 0.80766361951828), ('dormi', 0.728126049041748), ('levantar', 0.7226590514183044)] \n",
      "\n",
      "23 [('dormir', 0.864301323890686), ('living', 0.8260776400566101), ('despertar', 0.8078879117965698), ('peli', 0.7361836433410645), ('dormi', 0.7350252866744995)] \n",
      "\n",
      "30 [('dormir', 0.9102323651313782), ('despertar', 0.8729993104934692), ('living', 0.8182731866836548), ('anohe', 0.8047760128974915), ('bichin', 0.7897448539733887)] \n",
      "\n",
      "31 [('dormir', 0.9004937410354614), ('despertar', 0.8839499950408936), ('living', 0.8658862113952637), ('acostado', 0.8282748460769653), ('diente', 0.7969290614128113)] \n",
      "\n",
      "32 [('dormir', 0.9171844720840454), ('despertar', 0.9061362147331238), ('acostar', 0.8827185034751892), ('living', 0.8537043333053589), ('lavar', 0.8001899719238281)] \n",
      "\n"
     ]
    }
   ],
   "source": [
    "bads = [\n",
    "    0,1,2,16,26,19,22, # lunes\n",
    "    12,15,20,29, # garganta\n",
    "    13,14,25, # rendir\n",
    "    10,27,34,35, # bondi\n",
    "    24,28, # fernet\n",
    "    7,33, # miercoles\n",
    "]\n",
    "for x in range(0,ind):\n",
    "    if x in bads:\n",
    "        continue\n",
    "    print(x,models[x].wv.most_similar('cama',topn=5),'\\n')"
   ]
  },
  {
   "cell_type": "markdown",
   "metadata": {},
   "source": [
    "### Lets move with cluster 11"
   ]
  },
  {
   "cell_type": "markdown",
   "metadata": {},
   "source": [
    "# Visualization of the words"
   ]
  },
  {
   "cell_type": "code",
   "execution_count": null,
   "metadata": {},
   "outputs": [],
   "source": [
    "# Setting up\n",
    "model = models[11]\n",
    "vecs = []\n",
    "\n",
    "for word in words:\n",
    "    vecs.append(model.wv[word])\n",
    "\n",
    "    \n",
    "# Using Singular Value Decomposition to reduce dimensions.\n",
    "\n",
    "U, s, Vh = np.linalg.svd(vecs,full_matrices=False)\n",
    "\n",
    "# Plotting data\n",
    "\n",
    "for i in range(len(words)):\n",
    "        fig = plt.gcf()\n",
    "        fig.set_size_inches(18.5, 10.5)\n",
    "        plt.text(U[i,0], U[i,1], words[i])\n",
    "        plt.xlim((-0.03,-0.015))\n",
    "        plt.ylim((-0.01,0.01))\n",
    "\n",
    "plt.savefig('viz.jpg')"
   ]
  }
 ],
 "metadata": {
  "kernelspec": {
   "display_name": "Python 3",
   "language": "python",
   "name": "python3"
  },
  "language_info": {
   "codemirror_mode": {
    "name": "ipython",
    "version": 3
   },
   "file_extension": ".py",
   "mimetype": "text/x-python",
   "name": "python",
   "nbconvert_exporter": "python",
   "pygments_lexer": "ipython3",
   "version": "3.7.4"
  }
 },
 "nbformat": 4,
 "nbformat_minor": 2
}
